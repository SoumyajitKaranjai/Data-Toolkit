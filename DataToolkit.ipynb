{
  "nbformat": 4,
  "nbformat_minor": 0,
  "metadata": {
    "colab": {
      "provenance": []
    },
    "kernelspec": {
      "name": "python3",
      "display_name": "Python 3"
    },
    "language_info": {
      "name": "python"
    }
  },
  "cells": [
    {
      "cell_type": "markdown",
      "source": [
        "1.What is NumPy, and why is it widely used in Python?\n",
        "\n",
        "\n",
        "\n",
        "*   NumPy is a fundamental, open-source Python library for scientific and numerical computing. Its core feature is the multidimensional array object, known as ndarray, which provides a highly efficient structure for large-scale data manipulation. Beyond arrays, NumPy includes a vast suite of mathematical functions, covering areas such as linear algebra, Fourier transforms, random number generation, and statistical analysis.\n",
        "*   Reasons why it is used:\n",
        "\n",
        "a. Performance: Operations on NumPy arrays are significantly faster (often up to 50x) than equivalent operations with native Python lists. This is because NumPy arrays are stored in contiguous memory and leverage compiled code (mainly in C and C++) for heavy computations, ensuring low-level, optimized execution.\n",
        "\n",
        "b. Homogeneous Data: All elements in a NumPy array share the same data type, allowing for compact memory usage and quicker calculations, compared to Python lists which can store mixed data types and are less memory-efficient.\n",
        "\n",
        "c. Expressive Syntax and Broadcast Capability: NumPy enables vectorized operations (applying operations over entire arrays without explicit Python loops), and supports broadcasting—automatic alignment of arrays with different shapes during mathematical operations—making data manipulation highly convenient and Pythonic.\n",
        "\n",
        "d. Foundation for Scientific Ecosystem: Many other essential Python libraries, such as Pandas, SciPy, scikit-learn, and Matplotlib, are built upon NumPy arrays, making it the backbone of the scientific Python ecosystem.\n",
        "\n",
        "e. Wide Application: NumPy is used extensively in data science, machine learning, image and signal processing, and scientific research, where efficient array manipulation and numerical analysis are critical.\n",
        "\n",
        "2.How does broadcasting work in NumPy?\n",
        "\n",
        "* If arrays differ in the number of dimensions, the smaller array's shape is left-padded with ones until both shapes have the same length.    \n",
        "* For each dimension, the sizes are compatible if they are equal or one of them is 1.\n",
        "* When a size is 1, the array is conceptually \"stretched\" to match the other array in that dimension. No real data is copied; NumPy does this efficiently in memory.\n",
        "\n",
        "3.What is a Pandas DataFrame?\n",
        "\n",
        "*   A Pandas DataFrame is a two-dimensional, labeled data structure in Python that resembles a table or spreadsheet with rows and columns. Each column can hold different types of data (such as integers, floats, or strings), and both rows and columns are labeled, allowing for flexible and intuitive data manipulation and access.\n",
        "\n",
        "4.Explain the use of the groupby() method in Pandas.\n",
        "\n",
        "\n",
        "The groupby() method in Pandas is used to split data into groups based on specified column values, apply a function (such as aggregation or transformation) to each group, and then combine the results into a new DataFrame or Series. This process is commonly described as the split-apply-combine strategy:\n",
        "\n",
        "a. Splitting: The DataFrame is divided into groups based on one or more keys (column names, functions, or arrays). For example, grouping transaction data by product category or date.\n",
        "\n",
        "b. Applying: A function—such as sum, mean, min, max, count, or any custom function—is executed on each group independently. This can be used for:\n",
        "\n",
        "c. Aggregation: Calculating summary statistics for each group.\n",
        "\n",
        "d. Transformation: Modifying values within each group.\n",
        "\n",
        "e. Filtering: Keeping or discarding groups based on a condition.\n",
        "\n",
        "f. Combining: The results from each group are merged into a new DataFrame or Series.\n",
        "\n",
        "5.Why is Seaborn preferred for statistical visualizations?\n",
        "\n",
        "*   Seaborn is preferred for statistical visualizations in Python primarily because it offers a high-level interface that simplifies the creation of complex, informative, and visually appealing statistical plots with minimal code. Some key reasons for its preference include:\n",
        "\n",
        "a. Advanced Statistical Plots Out-of-the-Box: Seaborn provides specialized functions for statistical visualizations such as violin plots, heatmaps, box plots, and regression plots—many of which require significant manual effort to recreate in Matplotlib.\n",
        "\n",
        "b. Simplified Syntax: Its concise and intuitive syntax allows users to quickly generate complex plots, which accelerates data exploration and reduces coding overhead.\n",
        "\n",
        "c. Attractive Default Styles: Seaborn applies aesthetically pleasing color palettes and themes automatically, creating publication-quality visuals without the need for extensive customization.\n",
        "\n",
        "d. Integration With Pandas: Designed to work seamlessly with Pandas DataFrames, Seaborn makes it easy to visualize tabular data and perform exploratory data analysis.\n",
        "\n",
        "e. Built-In Statistical Elements: Unlike Matplotlib, Seaborn automatically incorporates statistical summaries (e.g., confidence intervals in regression plots), helping analysts and scientists glean insights faster.\n",
        "\n",
        "\n",
        "6. What are the differences between NumPy arrays and Python lists?\n",
        "\n",
        "**NumPy arrays:-**\n",
        "\n",
        "\n",
        "*   Only one data type per array (homogeneous).\n",
        "\n",
        "*   Much faster for large-scale numerical operations due to contiguous memory layout and optimized C-based routines.\n",
        "*   Lower memory usage (data stored contiguously and as a single type).\n",
        "*   Optimized for mathematical and vectorized operations; supports broadcasting, element-wise operations, and advanced mathematical methods.\n",
        "\n",
        "**Python lists :-**\n",
        "\n",
        "\n",
        "\n",
        "*   Can hold elements of different data types (heterogeneous).\n",
        "\n",
        "*   Generally slower for numerical computations, especially with large datasets.\n",
        "*   Higher memory overhead (stores type and reference info per element; possible memory fragmentation).\n",
        "\n",
        "*   Flexible for general-purpose tasks; supports mixed or nested (list of lists) structures.\n",
        "\n",
        "7.What is a heatmap, and when should it be used?\n",
        "\n",
        "\n",
        "\n",
        "*   A heatmap is a graphical representation of data where individual values are displayed as colors on a grid. Each cell in the grid corresponds to a data value, and the color intensity or hue indicates the magnitude of that value. This makes it easy to immediately spot patterns, clusters, correlations, and anomalies within large datasets.\n",
        "*   Uses-\n",
        "\n",
        "a. Exploratory Data Analysis: Ideal for visualizing the structure of large numerical datasets to identify trends, clusters, or outliers.\n",
        "\n",
        "b. Correlation Analysis: Frequently used to display a correlation matrix among variables, facilitating the identification of strongly or weakly correlated pairs.\n",
        "\n",
        "c. Matrix Data or Cross-Tabulations: Suited for data that naturally forms a matrix—such as confusion matrices, frequency tables, or user-item interaction grids—since heatmaps highlight high and low values clearly.\n",
        "\n",
        "d. Comparing Across Two Dimensions: Useful for comparing values across combinations of two variables, such as time vs. product category or geographic region vs. metric.\n",
        "\n",
        "e. Highlighting Deviations: By centering the color map, heatmaps can highlight deviations from a reference or average value.\n",
        "\n",
        "8.What does the term “vectorized operation” mean in NumPy?\n",
        "\n",
        "\n",
        "\n",
        "*   A vectorized operation in NumPy refers to performing mathematical or logical operations directly on entire arrays (or large batches of data) at once, without the need for explicit Python loops.\n",
        "\n",
        "9. How does Matplotlib differ from Plotly?\n",
        "\n",
        "**Matplotlib:-**\n",
        "\n",
        "\n",
        "\n",
        "*  Static plots by default (PNG, PDF, SVG).\n",
        "\n",
        "*   Limited; mostly static images; some interaction with external tools or in Jupyter notebooks.\n",
        "\n",
        "*   Highly customizable, with fine-grained control (fonts, margins, scales, etc.)\n",
        "*   Print, academic publications, static reports, fine-control figures.\n",
        "\n",
        "\n",
        "*   Widely used standard in scientific and academic environments; integrates with NumPy, Pandas, Seaborn.\n",
        "\n",
        "\n",
        "*   Better for very large static plots or batch charting.\n",
        "\n",
        "**Plotly:-**\n",
        "\n",
        "\n",
        "\n",
        "*   Interactive plots by default (hover, zoom, toggle).\n",
        "*   Rich interactivity is native (tooltips, zoom, pan, click).\n",
        "*   Customizable, but some advanced tweaks require learning Plotly’s structure.\n",
        "*   Dashboards, web applications, data exploration, presentations.\n",
        "*   Integrates with web and app frameworks (like Dash); cross-platform browser-based graphics.\n",
        "*   For small to medium data, performance generally good; massive interactive plots may lag.\n",
        "\n",
        "10.What is the significance of hierarchical indexing in Pandas?\n",
        "\n",
        "Hierarchical indexing—also known as multi-indexing—in Pandas allows a DataFrame or Series to have multiple (two or more) index levels on its rows and/or columns, rather than a single flat index. This has significant implications and offers several advantages :\n",
        "\n",
        "a. Efficient Organization of Complex Data: Hierarchical indexing structures data with multiple dimensions or categorical levels in a compact, two-dimensional table, even when the data logically has more dimensions. For example, you can represent data across cities and years, or multiple grouping variables, in a single DataFrame.\n",
        "\n",
        "b. Intuitive Data Selection and Slicing: With multi-level labels, you can easily select, filter, or slice data at various levels of detail—such as retrieving all records for a city, then drilling down to a specific year—making data exploration more flexible.\n",
        "\n",
        "c. Sophisticated Aggregations and Groupings: Hierarchical indexing enables powerful summarizations, groupby operations, and reshaping, allowing you to aggregate or compute statistics efficiently across different combinations of levels.\n",
        "\n",
        "d. Modeling Real-World Hierarchies: It naturally models complex real-world relationships, such as organizational structures, geographical breakdowns (region, state, city), or time series across multiple categories.\n",
        "\n",
        "e. Enhanced Data Merging and Reshaping: Multi-indexes make it easier to perform merges, joins, and reshaping (via methods like stack, unstack, and pivot), supporting advanced data manipulation scenarios.\n",
        "\n",
        "f. Higher-Dimensional Data Representation: Each additional level in a multi-index can be thought of as representing an additional dimension, allowing two-dimensional DataFrames to store and manipulate data with higher, even arbitrary, dimensionality.\n",
        "\n",
        "11.What is the role of Seaborn’s pairplot() function?\n",
        "\n",
        "Seaborn’s pairplot() function is designed to visualize pairwise relationships between multiple variables in a dataset. Its primary role is to automatically generate a matrix of plots, where:\n",
        "\n",
        "a. Each off-diagonal cell shows a scatter plot (or another bivariate plot) representing the relationship between two different numeric variables.\n",
        "\n",
        "b. Diagonal cells display the distribution of each individual variable, often as a histogram or kernel density estimate.\n",
        "\n",
        "12. What is the purpose of the describe() function in Pandas?\n",
        "\n",
        "The purpose of the describe() function in Pandas is to generate descriptive statistics that provide a summary of the central tendency, dispersion, and shape of a dataset’s distribution. When applied to a DataFrame, it quickly returns key statistical metrics for each column,  including:\n",
        "\n",
        "count (number of non-null entries)\n",
        "\n",
        "mean (average value)\n",
        "\n",
        "std (standard deviation)\n",
        "\n",
        "min (minimum value)\n",
        "\n",
        "25% (first quartile)\n",
        "\n",
        "50% (median)\n",
        "\n",
        "75% (third quartile)\n",
        "\n",
        "max (maximum value)\n",
        "\n",
        "13.Why is handling missing data important in Pandas?\n",
        "\n",
        "\n",
        "\n",
        "*   Handling missing data in Pandas is crucial because missing values can significantly distort data analysis and lead to misleading or inaccurate conclusions.\n",
        "\n",
        "14.What are the benefits of using Plotly for data visualization?\n",
        "\n",
        "a. Interactivity: Plotly enables users to create highly interactive charts (zoom, pan, hover for details, click for deeper insights) without requiring manual coding for interactivity, as this functionality is handled seamlessly through JavaScript behind the scenes. This allows users to explore and interrogate data dynamically, which is particularly valuable for data analysis and presentations.\n",
        "\n",
        "b. Wide Range of Visualization Types: Plotly supports over 40 different chart types, ranging from standard line and bar charts to advanced 3D, animated plots, heatmaps, and geographic maps. This flexibility makes it suitable for a variety of data visualization needs, from basic exploration to specialized analytics.\n",
        "\n",
        "c. Easy Web Integration: Visualizations created with Plotly can be effortlessly embedded in web applications, dashboards, or shared online, making it an excellent tool for collaborative teams, public reporting, or web-based data products.\n",
        "\n",
        "d. Simplicity and Usability: Plotly is recognized for its simple and intuitive syntax, which lowers the barrier for inexperienced users while offering powerful capabilities for advanced users. With high-level interfaces like plotly.express, complex visualizations can be created with minimal code.\n",
        "\n",
        "e. Customization and Aesthetics: Charts are not only interactive but also visually appealing and highly customizable, supporting advanced styling, annotations, and configuration to suit specific audience or branding needs.\n",
        "\n",
        "f. Data Exploration and Insight: Interactive features—such as tooltips and zoom—make it possible to quickly detect outliers, examine trends, and uncover relationships that static charts might obscure.\n",
        "\n",
        "g. Suitability for Production and AI: Plotly is increasingly used for building production-grade data applications and dashboards. Features like AI-assisted chart generation and integration with tools like Dash make it scalable for organizational analytics and deployment.\n",
        "\n",
        "15.How does NumPy handle multidimensional arrays?\n",
        "\n",
        "\n",
        "\n",
        "*   NumPy handles multidimensional arrays using its ndarray object, which efficiently represents data in any number of dimensions (axes). The key aspects of how NumPy works with these arrays are:\n",
        "\n",
        "a. Creation: You can create multidimensional arrays by passing a list of lists (or nested lists) to np.array(), where each nested list represents a row (for 2D) or higher structure for more dimensions. Alternatively, you can use functions like np.zeros(), np.ones(), or np.empty() with a shape argument specifying the desired dimensions.\n",
        "\n",
        "b. Access and Indexing: Elements in a multidimensional array are accessed via a tuple of indices, one for each dimension. For a 2D array, use arr[row, column]. You can also perform slicing along each axis to extract sub-arrays or modify content directly.\n",
        "\n",
        "c. Shape and Rank: Each ndarray has a shape attribute, returning a tuple that indicates the size along each axis (e.g., (5, 3) for a 2D array with 5 rows, 3 columns). The rank is the number of dimensions (axes) the array has, which is accessible via ndim.\n",
        "\n",
        "d. Mathematical Operations: NumPy allows element-wise operations and broadcasting directly on multidimensional arrays. Operations like addition, multiplication, and universal functions (like np.sin, np.sum) work across any number of dimensions, applying the operation to each element.\n",
        "\n",
        "e. Advanced Capabilities: Multidimensional arrays in NumPy serve as the basis for complex data structures in scientific computing, such as matrices, tensors, and higher-rank grids. NumPy provides efficient memory usage, speed (due to C-based implementation), and interoperability with other math and plotting libraries.\n",
        "\n",
        "f. Slicing and Views: Slicing produces views on the data, meaning changes made to the slice reflect in the original array, which makes modifying blocks of data very efficient.\n",
        "\n",
        "16.What is the role of Bokeh in data visualization?\n",
        "\n",
        "\n",
        "\n",
        "*   Bokeh is a Python library specifically designed for creating interactive data visualizations that can be rendered directly in web browsers using HTML and JavaScript. Its primary role in data visualization includes:\n",
        "\n",
        "a. Enabling Interactivity: Bokeh makes it easy to build plots where users can zoom, pan, hover for tooltips, select data points, or update visualizations in real-time. This interactivity enables deeper data exploration and analysis—valuable for both data scientists and end-users.\n",
        "\n",
        "b. Web Integration: Unlike traditional static plotting libraries, Bokeh outputs visualizations as standalone HTML files, or directly embeds them into web applications (including Django and Flask) and dashboards. This makes it ideal for delivering visual analytics to a wide or non-technical audience via the web.\n",
        "\n",
        "c. Flexible and Powerful: Bokeh supports simple charts (lines, bars, scatter) as well as complex layouts, dashboards, streaming data, and custom visualizations with widgets and controls for real-time user input.\n",
        "\n",
        "d. Seamless Ecosystem Integration: It works well with Python’s data science tools like Pandas and NumPy for data manipulation, making it easy to go from raw data to interactive insights.\n",
        "\n",
        "e. Open-source and Shareable: Bokeh is open source and plots are easily shareable, as they are rendered with widely supported web technologies.\n",
        "\n",
        "17. Explain the difference between apply() and map() in Pandas.\n",
        "\n",
        "\n",
        "**map():-**\n",
        "*   map() is used only on Series (i.e., a single column in a DataFrame) and performs an element-wise operation, applying a function, dictionary, or another Series to each value independently.\n",
        "*   map() is ideal for simple, element-wise transformations or value mapping in a Series, such as substituting or converting individual values using a function or mapping via a dictionary.\n",
        "*   map() accepts a function, dictionary, or another Series for mapping values.\n",
        "\n",
        "**apply():-**\n",
        "\n",
        "*  apply() is more versatile—it can be used on both Series and DataFrames. For DataFrames, it applies a function along rows or columns (specified by the axis argument), meaning it can operate on entire rows or columns at once, not just individual elements.\n",
        "*   apply() allows for more complex operations and aggregations, including applying functions that process whole rows or columns (like calculating statistics, combining values, etc.).\n",
        "*   apply() (for Series) accepts a function; for DataFrames, it accepts a function to be applied to each row or column, depending on the axis specified.\n",
        "\n",
        "18.What are some advanced features of NumPy?\n",
        "\n",
        "a. Multidimensional Arrays (ndarray): NumPy supports efficient storage and manipulation of arrays with any number of dimensions, enabling complex data representation and operations across 1D, 2D, or higher-dimensional data.\n",
        "\n",
        "b. Broadcasting: This powerful feature allows arithmetic operations between arrays of different shapes by virtually expanding the smaller array without copying data, enabling concise and efficient vectorized computations.\n",
        "\n",
        "c. Universal Functions (ufuncs): NumPy provides a comprehensive set of fast, element-wise mathematical functions (e.g., np.sin(), np.exp(), np.sqrt()) that operate on entire arrays without explicit loops, offering both speed and convenience.\n",
        "\n",
        "d. Advanced Indexing and Slicing: NumPy supports not only basic slicing but also boolean indexing, fancy indexing with arrays of indices, and multidimensional indexing, giving fine-grained control over data access and manipulation.\n",
        "\n",
        "e. Vectorized Operations: NumPy operations apply element-wise across arrays efficiently, replacing slow Python loops with highly optimized C implementations, which greatly speeds up large-scale computations.\n",
        "\n",
        "f. Linear Algebra Routines: Built-in functions for matrix multiplication, eigenvalues, matrix decompositions, solving linear systems, and other common linear algebra tasks are provided, making NumPy a foundation for scientific computing.\n",
        "\n",
        "g. Random Number Generation: NumPy includes a flexible and powerful random module for generating random numbers, sampling from distributions, and stochastic simulation.\n",
        "\n",
        "h. Fourier Transforms: Efficient implementations of discrete Fourier transforms enable frequency domain analysis directly within NumPy.\n",
        "\n",
        "i. Memory Efficiency and Performance: Arrays are stored in contiguous memory blocks with fixed data types, enabling fast data access and low memory overhead compared to standard Python lists. NumPy’s operations run at compiled C speed, offering high performance especially for large datasets.\n",
        "\n",
        "j. Interoperability: NumPy integrates smoothly with other scientific Python libraries such as SciPy, Pandas, scikit-learn, and Matplotlib, creating a cohesive ecosystem for data analysis, machine learning, and visualization.\n",
        "\n",
        "k. Structured and Masked Arrays: NumPy supports structured arrays for heterogeneous data types and masked arrays for handling missing or invalid data within numerical arrays.\n",
        "\n",
        "19. How does Pandas simplify time series analysis?\n",
        "\n",
        "\n",
        "\n",
        "*   Pandas simplifies time series analysis by providing dedicated data structures, indexing, and methods that make it easy to manage, manipulate, and analyze time-stamped data—regardless of whether the intervals are regular or irregular.\n",
        "\n",
        "20.What is the role of a pivot table in Pandas?\n",
        "\n",
        "\n",
        "\n",
        "*   The role of a pivot table in Pandas is to provide a powerful and flexible tool for summarizing, reorganizing, and analyzing large or complex datasets. A pivot table enables users to:\n",
        "\n",
        "a. Aggregate Data Efficiently: Pivot tables allow you to group data by one or more keys (columns), then apply aggregation functions—such as mean, sum, count, or custom functions—across groups. This makes it easy to distill detailed data into concise, useful summaries.\n",
        "\n",
        "b. Transform and Reshape Data: By converting rows into columns and vice versa, pivot tables give you different perspectives on your data, revealing patterns and relationships that may not be apparent in the raw format.\n",
        "\n",
        "c. Compare and Analyze Across Multiple Dimensions: Pivot tables can compare data across several variables, making them particularly useful for multidimensional analysis or reporting (e.g., sales by product and region, performance by month and department).\n",
        "\n",
        "d. Handle Duplicate and Missing Data Gracefully: Unlike the basic pivot function, pivot_table() can handle duplicate entries by aggregating them and can fill in missing values with the fill_value parameter or handle them in other ways.\n",
        "\n",
        "e. Enhance Data Visualization: The summarized format of a pivot table lends itself well to plotting and further visual analytics, enabling clearer and more actionable insights.\n",
        "\n",
        "21.Why is NumPy’s array slicing faster than Python’s list slicing?\n",
        "\n",
        "NumPy’s array slicing is faster than Python’s list slicing mainly due to three fundamental reasons:\n",
        "\n",
        "a. Contiguous Memory Layout:\n",
        "NumPy arrays store data in contiguous blocks of memory with a fixed data type, allowing for highly efficient, low-level memory access patterns. In contrast, a Python list is an array of pointers to objects scattered throughout memory, which slows down operations due to this extra level of indirection.\n",
        "\n",
        "b. View vs. Copy:\n",
        "When you slice a NumPy array, it returns a view of the original data, not a copy. This means no data is actually moved or duplicated; only metadata (start point, stride, shape) is changed. In contrast, slicing a Python list creates a new list and copies references for the selected elements, adding overhead both in time and memory.\n",
        "\n",
        "c. Optimized C Implementation:\n",
        "NumPy’s slicing operations are executed in fast, compiled C code, bypassing the slower Python interpreter and its object management. This gives NumPy a significant speed advantage on large data sets compared to Python's native lists, which operate at the interpreter level.\n",
        "\n",
        "22.What are some common use cases for Seaborn?\n",
        "\n",
        "**Distribution Visualization:**\n",
        "\n",
        "a. Plotting histograms and KDEs to examine the distribution of single variables using functions like histplot() and displot().\n",
        "\n",
        "b. Visualizing distributions across categories with box plots, violin plots, or swarm plots to compare groups.\n",
        "\n",
        "**Relationship Analysis:**\n",
        "\n",
        "a. Creating scatter plots and line plots to visualize relationships between two variables (scatterplot(), lineplot()).\n",
        "\n",
        "b. Using pairplot() to display pairwise relationships in a dataset, which is especially useful for initial exploratory analysis of multivariate data.\n",
        "\n",
        "**Categorical Data Comparison:**\n",
        "\n",
        "a. Bar plots and count plots to show the frequency or aggregation of variables across categories (barplot(), countplot()).\n",
        "\n",
        "b. Box plots and violin plots to summarize and compare data distributions across different groups or categories.\n",
        "\n",
        "**Matrix and Correlation Visualizations:**\n",
        "\n",
        "Heatmaps for showing matrices—such as a correlation matrix, confusion matrix, or time/calendar data—which reveal data concentration, patterns, or relationships at a glance.\n",
        "\n",
        "**Multivariate Analysis:**\n",
        "\n",
        "Faceted plots (using FacetGrid or catplot()) to compare distributions or relationships, splitting the grid along levels of categorical variables—such as plotting distributions for different days, genders, or species.\n",
        "\n",
        "**Statistical Trend Analysis:**\n",
        "\n",
        "Regression plots, joint plots, and lmplot functions provide quick insights into trends, correlations, and linear relationships, often with automatic confidence intervals.\n",
        "\n",
        "**Customization and Aesthetics:**\n",
        "\n",
        "Applying beautiful color palettes and themes to make publication-quality visualizations with minimal code, as well as easy integration with Pandas for streamlined data preparation.\n",
        "\n",
        "\n",
        "\n",
        "\n",
        "\n",
        "\n",
        "\n",
        "\n",
        "\n",
        "\n",
        "\n",
        "\n",
        "\n",
        "\n",
        "\n",
        "\n",
        "\n",
        "\n",
        "\n",
        "\n",
        "\n",
        "\n",
        "\n",
        "\n",
        "\n",
        "\n",
        "\n",
        "\n",
        "\n",
        "\n"
      ],
      "metadata": {
        "id": "bSoASphxONzl"
      }
    },
    {
      "cell_type": "markdown",
      "source": [
        "1.How do you create a 2D NumPy array and calculate the sum of each row?"
      ],
      "metadata": {
        "id": "1mRmNfqXrzqu"
      }
    },
    {
      "cell_type": "code",
      "execution_count": 1,
      "metadata": {
        "colab": {
          "base_uri": "https://localhost:8080/"
        },
        "id": "uGTJDHiMODoJ",
        "outputId": "3ad4c1bc-de65-44d7-d215-103daeaf8808"
      },
      "outputs": [
        {
          "output_type": "stream",
          "name": "stdout",
          "text": [
            "[ 6 15 24]\n"
          ]
        }
      ],
      "source": [
        "import numpy as np\n",
        "\n",
        "# Create a 2D array\n",
        "arr = np.array([[1, 2, 3], [4, 5, 6], [7, 8, 9]])\n",
        "row_sums = arr.sum(axis=1)\n",
        "print(row_sums)\n"
      ]
    },
    {
      "cell_type": "markdown",
      "source": [
        "2.Write a Pandas script to find the mean of a specific column in a DataFrame."
      ],
      "metadata": {
        "id": "Kn8Z9PDssTcY"
      }
    },
    {
      "cell_type": "code",
      "source": [
        "import pandas as pd\n",
        "data = {\n",
        "    'A': [1, 2, 3, 4, 5],\n",
        "    'B': [6, 7, 8, 9, 10]\n",
        "}\n",
        "df = pd.DataFrame(data)\n",
        "mean_A = df['A'].mean()\n",
        "print(\"Mean of column 'A':\", mean_A)\n"
      ],
      "metadata": {
        "colab": {
          "base_uri": "https://localhost:8080/"
        },
        "id": "6roHKZgCsg1y",
        "outputId": "20f7f526-3390-413b-b877-ffd4eaa385db"
      },
      "execution_count": 2,
      "outputs": [
        {
          "output_type": "stream",
          "name": "stdout",
          "text": [
            "Mean of column 'A': 3.0\n"
          ]
        }
      ]
    },
    {
      "cell_type": "markdown",
      "source": [
        "3.Create a scatter plot using Matplotlib."
      ],
      "metadata": {
        "id": "wvVSk-WYs3q3"
      }
    },
    {
      "cell_type": "code",
      "source": [
        "import matplotlib.pyplot as plt\n",
        "import numpy as np\n",
        "import warnings\n",
        "warnings.filterwarnings('ignore')\n",
        "\n",
        "x=np.random.rand(20)\n",
        "y=np.random.rand(20)\n",
        "plt.scatter(x, y,c=\"r\",marker='x')\n",
        "plt.title(\"Basic Scatter Plot\")\n",
        "plt.xlabel(\"X Values\")\n",
        "plt.ylabel(\"Y Values\")\n",
        "plt.show()\n"
      ],
      "metadata": {
        "colab": {
          "base_uri": "https://localhost:8080/",
          "height": 472
        },
        "id": "0qhdIsjbs8yR",
        "outputId": "a53eda07-60bd-4d8c-980e-e82140da2b53"
      },
      "execution_count": 15,
      "outputs": [
        {
          "output_type": "display_data",
          "data": {
            "text/plain": [
              "<Figure size 640x480 with 1 Axes>"
            ],
            "image/png": "[encoded data removed]"
          },
          "metadata": {}
        }
      ]
    },
    {
      "cell_type": "markdown",
      "source": [
        "4. How do you calculate the correlation matrix using Seaborn and visualize it with a heatmap?"
      ],
      "metadata": {
        "id": "xHnm0rrGvJLJ"
      }
    },
    {
      "cell_type": "code",
      "source": [
        "import pandas as pd\n",
        "import seaborn as sns\n",
        "import matplotlib.pyplot as plt\n",
        "import warnings\n",
        "warnings.filterwarnings('ignore')\n",
        "df = sns.load_dataset('iris')\n",
        "\n",
        "#  Calculate the correlation matrix\n",
        "corr_matrix = df.corr(numeric_only=True)\n",
        "\n",
        "# Create the heatmap\n",
        "sns.heatmap(corr_matrix,annot=True, cmap='coolwarm')\n",
        "\n",
        "plt.title(\"Correlation Matrix Heatmap\")\n",
        "plt.show()\n"
      ],
      "metadata": {
        "colab": {
          "base_uri": "https://localhost:8080/",
          "height": 452
        },
        "id": "2VXvgysdvRUc",
        "outputId": "a707bc4e-0634-4113-ed96-164738ee7de8"
      },
      "execution_count": 14,
      "outputs": [
        {
          "output_type": "display_data",
          "data": {
            "text/plain": [
              "<Figure size 640x480 with 2 Axes>"
            ],
            "image/png": "[encoded data removed]"
          },
          "metadata": {}
        }
      ]
    },
    {
      "cell_type": "markdown",
      "source": [
        "5.Generate a bar plot using Plotly."
      ],
      "metadata": {
        "id": "52fOLpK2zxq_"
      }
    },
    {
      "cell_type": "code",
      "source": [
        "import plotly.express as px\n",
        "\n",
        "data = {\n",
        "    \"Category\": [\"A\", \"B\", \"C\", \"D\"],\n",
        "    \"Value\": [10, 20, 14, 32]\n",
        "}\n",
        "\n",
        "# Create the bar plot\n",
        "fig = px.bar(data, x=\"Category\", y=\"Value\", title=\"Simple Bar Plot with Plotly\")\n",
        "\n",
        "fig.show()\n"
      ],
      "metadata": {
        "colab": {
          "base_uri": "https://localhost:8080/",
          "height": 542
        },
        "id": "CgvwZJwEz2ZR",
        "outputId": "70e6ad38-598e-4dec-fb89-40e5e7049e8e"
      },
      "execution_count": 31,
      "outputs": [
        {
          "output_type": "display_data",
          "data": {
            "text/html": [
              "<html>\n",
              "<head><meta charset=\"utf-8\" /></head>\n",
              "<body>\n",
              "    <div>            <script src=\"https://cdnjs.cloudflare.com/ajax/libs/mathjax/2.7.5/MathJax.js?config=TeX-AMS-MML_SVG\"></script><script type=\"text/javascript\">if (window.MathJax && window.MathJax.Hub && window.MathJax.Hub.Config) {window.MathJax.Hub.Config({SVG: {font: \"STIX-Web\"}});}</script>                <script type=\"text/javascript\">window.PlotlyConfig = {MathJaxConfig: 'local'};</script>\n",
              "        <script charset=\"utf-8\" src=\"https://cdn.plot.ly/plotly-2.35.2.min.js\"></script>                <div id=\"1c2b32df-6c7b-4643-b653-51fa6f390743\" class=\"plotly-graph-div\" style=\"height:525px; width:100%;\"></div>            <script type=\"text/javascript\">                                    window.PLOTLYENV=window.PLOTLYENV || {};                                    if (document.getElementById(\"1c2b32df-6c7b-4643-b653-51fa6f390743\")) {                    Plotly.newPlot(                        \"1c2b32df-6c7b-4643-b653-51fa6f390743\",                        [{\"alignmentgroup\":\"True\",\"hovertemplate\":\"Category=%{x}\\u003cbr\\u003eValue=%{y}\\u003cextra\\u003e\\u003c\\u002fextra\\u003e\",\"legendgroup\":\"\",\"marker\":{\"color\":\"#636efa\",\"pattern\":{\"shape\":\"\"}},\"name\":\"\",\"offsetgroup\":\"\",\"orientation\":\"v\",\"showlegend\":false,\"textposition\":\"auto\",\"x\":[\"A\",\"B\",\"C\",\"D\"],\"xaxis\":\"x\",\"y\":[10,20,14,32],\"yaxis\":\"y\",\"type\":\"bar\"}],                        {\"template\":{\"data\":{\"histogram2dcontour\":[{\"type\":\"histogram2dcontour\",\"colorbar\":{\"outlinewidth\":0,\"ticks\":\"\"},\"colorscale\":[[0.0,\"#0d0887\"],[0.1111111111111111,\"#46039f\"],[0.2222222222222222,\"#7201a8\"],[0.3333333333333333,\"#9c179e\"],[0.4444444444444444,\"#bd3786\"],[0.5555555555555556,\"#d8576b\"],[0.6666666666666666,\"#ed7953\"],[0.7777777777777778,\"#fb9f3a\"],[0.8888888888888888,\"#fdca26\"],[1.0,\"#f0f921\"]]}],\"choropleth\":[{\"type\":\"choropleth\",\"colorbar\":{\"outlinewidth\":0,\"ticks\":\"\"}}],\"histogram2d\":[{\"type\":\"histogram2d\",\"colorbar\":{\"outlinewidth\":0,\"ticks\":\"\"},\"colorscale\":[[0.0,\"#0d0887\"],[0.1111111111111111,\"#46039f\"],[0.2222222222222222,\"#7201a8\"],[0.3333333333333333,\"#9c179e\"],[0.4444444444444444,\"#bd3786\"],[0.5555555555555556,\"#d8576b\"],[0.6666666666666666,\"#ed7953\"],[0.7777777777777778,\"#fb9f3a\"],[0.8888888888888888,\"#fdca26\"],[1.0,\"#f0f921\"]]}],\"heatmap\":[{\"type\":\"heatmap\",\"colorbar\":{\"outlinewidth\":0,\"ticks\":\"\"},\"colorscale\":[[0.0,\"#0d0887\"],[0.1111111111111111,\"#46039f\"],[0.2222222222222222,\"#7201a8\"],[0.3333333333333333,\"#9c179e\"],[0.4444444444444444,\"#bd3786\"],[0.5555555555555556,\"#d8576b\"],[0.6666666666666666,\"#ed7953\"],[0.7777777777777778,\"#fb9f3a\"],[0.8888888888888888,\"#fdca26\"],[1.0,\"#f0f921\"]]}],\"heatmapgl\":[{\"type\":\"heatmapgl\",\"colorbar\":{\"outlinewidth\":0,\"ticks\":\"\"},\"colorscale\":[[0.0,\"#0d0887\"],[0.1111111111111111,\"#46039f\"],[0.2222222222222222,\"#7201a8\"],[0.3333333333333333,\"#9c179e\"],[0.4444444444444444,\"#bd3786\"],[0.5555555555555556,\"#d8576b\"],[0.6666666666666666,\"#ed7953\"],[0.7777777777777778,\"#fb9f3a\"],[0.8888888888888888,\"#fdca26\"],[1.0,\"#f0f921\"]]}],\"contourcarpet\":[{\"type\":\"contourcarpet\",\"colorbar\":{\"outlinewidth\":0,\"ticks\":\"\"}}],\"contour\":[{\"type\":\"contour\",\"colorbar\":{\"outlinewidth\":0,\"ticks\":\"\"},\"colorscale\":[[0.0,\"#0d0887\"],[0.1111111111111111,\"#46039f\"],[0.2222222222222222,\"#7201a8\"],[0.3333333333333333,\"#9c179e\"],[0.4444444444444444,\"#bd3786\"],[0.5555555555555556,\"#d8576b\"],[0.6666666666666666,\"#ed7953\"],[0.7777777777777778,\"#fb9f3a\"],[0.8888888888888888,\"#fdca26\"],[1.0,\"#f0f921\"]]}],\"surface\":[{\"type\":\"surface\",\"colorbar\":{\"outlinewidth\":0,\"ticks\":\"\"},\"colorscale\":[[0.0,\"#0d0887\"],[0.1111111111111111,\"#46039f\"],[0.2222222222222222,\"#7201a8\"],[0.3333333333333333,\"#9c179e\"],[0.4444444444444444,\"#bd3786\"],[0.5555555555555556,\"#d8576b\"],[0.6666666666666666,\"#ed7953\"],[0.7777777777777778,\"#fb9f3a\"],[0.8888888888888888,\"#fdca26\"],[1.0,\"#f0f921\"]]}],\"mesh3d\":[{\"type\":\"mesh3d\",\"colorbar\":{\"outlinewidth\":0,\"ticks\":\"\"}}],\"scatter\":[{\"fillpattern\":{\"fillmode\":\"overlay\",\"size\":10,\"solidity\":0.2},\"type\":\"scatter\"}],\"parcoords\":[{\"type\":\"parcoords\",\"line\":{\"colorbar\":{\"outlinewidth\":0,\"ticks\":\"\"}}}],\"scatterpolargl\":[{\"type\":\"scatterpolargl\",\"marker\":{\"colorbar\":{\"outlinewidth\":0,\"ticks\":\"\"}}}],\"bar\":[{\"error_x\":{\"color\":\"#2a3f5f\"},\"error_y\":{\"color\":\"#2a3f5f\"},\"marker\":{\"line\":{\"color\":\"#E5ECF6\",\"width\":0.5},\"pattern\":{\"fillmode\":\"overlay\",\"size\":10,\"solidity\":0.2}},\"type\":\"bar\"}],\"scattergeo\":[{\"type\":\"scattergeo\",\"marker\":{\"colorbar\":{\"outlinewidth\":0,\"ticks\":\"\"}}}],\"scatterpolar\":[{\"type\":\"scatterpolar\",\"marker\":{\"colorbar\":{\"outlinewidth\":0,\"ticks\":\"\"}}}],\"histogram\":[{\"marker\":{\"pattern\":{\"fillmode\":\"overlay\",\"size\":10,\"solidity\":0.2}},\"type\":\"histogram\"}],\"scattergl\":[{\"type\":\"scattergl\",\"marker\":{\"colorbar\":{\"outlinewidth\":0,\"ticks\":\"\"}}}],\"scatter3d\":[{\"type\":\"scatter3d\",\"line\":{\"colorbar\":{\"outlinewidth\":0,\"ticks\":\"\"}},\"marker\":{\"colorbar\":{\"outlinewidth\":0,\"ticks\":\"\"}}}],\"scattermapbox\":[{\"type\":\"scattermapbox\",\"marker\":{\"colorbar\":{\"outlinewidth\":0,\"ticks\":\"\"}}}],\"scatterternary\":[{\"type\":\"scatterternary\",\"marker\":{\"colorbar\":{\"outlinewidth\":0,\"ticks\":\"\"}}}],\"scattercarpet\":[{\"type\":\"scattercarpet\",\"marker\":{\"colorbar\":{\"outlinewidth\":0,\"ticks\":\"\"}}}],\"carpet\":[{\"aaxis\":{\"endlinecolor\":\"#2a3f5f\",\"gridcolor\":\"white\",\"linecolor\":\"white\",\"minorgridcolor\":\"white\",\"startlinecolor\":\"#2a3f5f\"},\"baxis\":{\"endlinecolor\":\"#2a3f5f\",\"gridcolor\":\"white\",\"linecolor\":\"white\",\"minorgridcolor\":\"white\",\"startlinecolor\":\"#2a3f5f\"},\"type\":\"carpet\"}],\"table\":[{\"cells\":{\"fill\":{\"color\":\"#EBF0F8\"},\"line\":{\"color\":\"white\"}},\"header\":{\"fill\":{\"color\":\"#C8D4E3\"},\"line\":{\"color\":\"white\"}},\"type\":\"table\"}],\"barpolar\":[{\"marker\":{\"line\":{\"color\":\"#E5ECF6\",\"width\":0.5},\"pattern\":{\"fillmode\":\"overlay\",\"size\":10,\"solidity\":0.2}},\"type\":\"barpolar\"}],\"pie\":[{\"automargin\":true,\"type\":\"pie\"}]},\"layout\":{\"autotypenumbers\":\"strict\",\"colorway\":[\"#636efa\",\"#EF553B\",\"#00cc96\",\"#ab63fa\",\"#FFA15A\",\"#19d3f3\",\"#FF6692\",\"#B6E880\",\"#FF97FF\",\"#FECB52\"],\"font\":{\"color\":\"#2a3f5f\"},\"hovermode\":\"closest\",\"hoverlabel\":{\"align\":\"left\"},\"paper_bgcolor\":\"white\",\"plot_bgcolor\":\"#E5ECF6\",\"polar\":{\"bgcolor\":\"#E5ECF6\",\"angularaxis\":{\"gridcolor\":\"white\",\"linecolor\":\"white\",\"ticks\":\"\"},\"radialaxis\":{\"gridcolor\":\"white\",\"linecolor\":\"white\",\"ticks\":\"\"}},\"ternary\":{\"bgcolor\":\"#E5ECF6\",\"aaxis\":{\"gridcolor\":\"white\",\"linecolor\":\"white\",\"ticks\":\"\"},\"baxis\":{\"gridcolor\":\"white\",\"linecolor\":\"white\",\"ticks\":\"\"},\"caxis\":{\"gridcolor\":\"white\",\"linecolor\":\"white\",\"ticks\":\"\"}},\"coloraxis\":{\"colorbar\":{\"outlinewidth\":0,\"ticks\":\"\"}},\"colorscale\":{\"sequential\":[[0.0,\"#0d0887\"],[0.1111111111111111,\"#46039f\"],[0.2222222222222222,\"#7201a8\"],[0.3333333333333333,\"#9c179e\"],[0.4444444444444444,\"#bd3786\"],[0.5555555555555556,\"#d8576b\"],[0.6666666666666666,\"#ed7953\"],[0.7777777777777778,\"#fb9f3a\"],[0.8888888888888888,\"#fdca26\"],[1.0,\"#f0f921\"]],\"sequentialminus\":[[0.0,\"#0d0887\"],[0.1111111111111111,\"#46039f\"],[0.2222222222222222,\"#7201a8\"],[0.3333333333333333,\"#9c179e\"],[0.4444444444444444,\"#bd3786\"],[0.5555555555555556,\"#d8576b\"],[0.6666666666666666,\"#ed7953\"],[0.7777777777777778,\"#fb9f3a\"],[0.8888888888888888,\"#fdca26\"],[1.0,\"#f0f921\"]],\"diverging\":[[0,\"#8e0152\"],[0.1,\"#c51b7d\"],[0.2,\"#de77ae\"],[0.3,\"#f1b6da\"],[0.4,\"#fde0ef\"],[0.5,\"#f7f7f7\"],[0.6,\"#e6f5d0\"],[0.7,\"#b8e186\"],[0.8,\"#7fbc41\"],[0.9,\"#4d9221\"],[1,\"#276419\"]]},\"xaxis\":{\"gridcolor\":\"white\",\"linecolor\":\"white\",\"ticks\":\"\",\"title\":{\"standoff\":15},\"zerolinecolor\":\"white\",\"automargin\":true,\"zerolinewidth\":2},\"yaxis\":{\"gridcolor\":\"white\",\"linecolor\":\"white\",\"ticks\":\"\",\"title\":{\"standoff\":15},\"zerolinecolor\":\"white\",\"automargin\":true,\"zerolinewidth\":2},\"scene\":{\"xaxis\":{\"backgroundcolor\":\"#E5ECF6\",\"gridcolor\":\"white\",\"linecolor\":\"white\",\"showbackground\":true,\"ticks\":\"\",\"zerolinecolor\":\"white\",\"gridwidth\":2},\"yaxis\":{\"backgroundcolor\":\"#E5ECF6\",\"gridcolor\":\"white\",\"linecolor\":\"white\",\"showbackground\":true,\"ticks\":\"\",\"zerolinecolor\":\"white\",\"gridwidth\":2},\"zaxis\":{\"backgroundcolor\":\"#E5ECF6\",\"gridcolor\":\"white\",\"linecolor\":\"white\",\"showbackground\":true,\"ticks\":\"\",\"zerolinecolor\":\"white\",\"gridwidth\":2}},\"shapedefaults\":{\"line\":{\"color\":\"#2a3f5f\"}},\"annotationdefaults\":{\"arrowcolor\":\"#2a3f5f\",\"arrowhead\":0,\"arrowwidth\":1},\"geo\":{\"bgcolor\":\"white\",\"landcolor\":\"#E5ECF6\",\"subunitcolor\":\"white\",\"showland\":true,\"showlakes\":true,\"lakecolor\":\"white\"},\"title\":{\"x\":0.05},\"mapbox\":{\"style\":\"light\"}}},\"xaxis\":{\"anchor\":\"y\",\"domain\":[0.0,1.0],\"title\":{\"text\":\"Category\"}},\"yaxis\":{\"anchor\":\"x\",\"domain\":[0.0,1.0],\"title\":{\"text\":\"Value\"}},\"legend\":{\"tracegroupgap\":0},\"title\":{\"text\":\"Simple Bar Plot with Plotly\"},\"barmode\":\"relative\"},                        {\"responsive\": true}                    ).then(function(){\n",
              "                            \n",
              "var gd = document.getElementById('1c2b32df-6c7b-4643-b653-51fa6f390743');\n",
              "var x = new MutationObserver(function (mutations, observer) {{\n",
              "        var display = window.getComputedStyle(gd).display;\n",
              "        if (!display || display === 'none') {{\n",
              "            console.log([gd, 'removed!']);\n",
              "            Plotly.purge(gd);\n",
              "            observer.disconnect();\n",
              "        }}\n",
              "}});\n",
              "\n",
              "// Listen for the removal of the full notebook cells\n",
              "var notebookContainer = gd.closest('#notebook-container');\n",
              "if (notebookContainer) {{\n",
              "    x.observe(notebookContainer, {childList: true});\n",
              "}}\n",
              "\n",
              "// Listen for the clearing of the current output cell\n",
              "var outputEl = gd.closest('.output');\n",
              "if (outputEl) {{\n",
              "    x.observe(outputEl, {childList: true});\n",
              "}}\n",
              "\n",
              "                        })                };                            </script>        </div>\n",
              "</body>\n",
              "</html>"
            ]
          },
          "metadata": {}
        }
      ]
    },
    {
      "cell_type": "markdown",
      "source": [
        "6.Create a DataFrame and add a new column based on an existing column."
      ],
      "metadata": {
        "id": "VHYVJKZT0gsL"
      }
    },
    {
      "cell_type": "code",
      "source": [
        "import pandas as pd\n",
        "\n",
        "df = pd.DataFrame({'A': [1, 2, 3, 4], 'B': [10, 20, 30, 40]})\n",
        "df['Double'] = df['A'] * 2\n",
        "\n",
        "print(df)\n"
      ],
      "metadata": {
        "colab": {
          "base_uri": "https://localhost:8080/"
        },
        "id": "uLd8Iqun0m6b",
        "outputId": "aeed6101-0f9a-4280-cb65-b39066800c25"
      },
      "execution_count": 11,
      "outputs": [
        {
          "output_type": "stream",
          "name": "stdout",
          "text": [
            "   A   B  Double\n",
            "0  1  10       2\n",
            "1  2  20       4\n",
            "2  3  30       6\n",
            "3  4  40       8\n"
          ]
        }
      ]
    },
    {
      "cell_type": "markdown",
      "source": [
        "7.Write a program to perform element-wise multiplication of two NumPy arrays."
      ],
      "metadata": {
        "id": "6lW19v231AV_"
      }
    },
    {
      "cell_type": "code",
      "source": [
        "import numpy as np\n",
        "arr1=np.random.randint(1,3,size=(3,4))\n",
        "arr2=np.random.randint(2,4,size=(3,4))\n",
        "arr1*arr2"
      ],
      "metadata": {
        "colab": {
          "base_uri": "https://localhost:8080/"
        },
        "id": "SoVrSBJj1HYF",
        "outputId": "6d3dad4f-ef0e-4198-d4b2-4828c368a60f"
      },
      "execution_count": 12,
      "outputs": [
        {
          "output_type": "execute_result",
          "data": {
            "text/plain": [
              "array([[2, 2, 4, 3],\n",
              "       [6, 2, 3, 3],\n",
              "       [2, 6, 2, 3]])"
            ]
          },
          "metadata": {},
          "execution_count": 12
        }
      ]
    },
    {
      "cell_type": "markdown",
      "source": [
        "8.Create a line plot with multiple lines using Matplotlib."
      ],
      "metadata": {
        "id": "9bDjnSsR2K5x"
      }
    },
    {
      "cell_type": "code",
      "source": [
        "import matplotlib.pyplot as plt\n",
        "import warnings\n",
        "warnings.filterwarnings('ignore')\n",
        "\n",
        "# Data for three lines\n",
        "x1 = [1, 2, 3, 4, 5]\n",
        "y1 = [2, 4, 6, 8, 10]\n",
        "\n",
        "x2 = [1, 2, 3, 4, 5]\n",
        "y2 = [1, 3, 5, 7, 9]\n",
        "\n",
        "x3 = [1, 2, 3, 4, 5]\n",
        "y3 = [5, 4, 3, 2, 1]\n",
        "\n",
        "# Plotting each line with a label\n",
        "plt.plot(x1, y1, label='Line 1')\n",
        "plt.plot(x2, y2, label='Line 2')\n",
        "plt.plot(x3, y3, label='Line 3')\n",
        "\n",
        "# Add legend, axis labels, and title\n",
        "plt.legend()\n",
        "plt.xlabel('X-axis')\n",
        "plt.ylabel('Y-axis')\n",
        "plt.title('Plotting Multiple Lines')\n",
        "\n",
        "# Display the plot\n",
        "plt.show()\n"
      ],
      "metadata": {
        "colab": {
          "base_uri": "https://localhost:8080/",
          "height": 472
        },
        "id": "7qGIU6Lx2Qev",
        "outputId": "78708b50-dee9-429e-c653-1eacd15c2f6e"
      },
      "execution_count": 16,
      "outputs": [
        {
          "output_type": "display_data",
          "data": {
            "text/plain": [
              "<Figure size 640x480 with 1 Axes>"
            ],
            "image/png": "[encoded data removed]"
          },
          "metadata": {}
        }
      ]
    },
    {
      "cell_type": "markdown",
      "source": [
        "9.Generate a Pandas DataFrame and filter rows where a column value is greater than a threshold."
      ],
      "metadata": {
        "id": "QDwciMbq21yD"
      }
    },
    {
      "cell_type": "code",
      "source": [
        "import pandas as pd\n",
        "\n",
        "data = {\n",
        "    'Name': ['Akash', 'Bob', 'Charlie', 'David'],\n",
        "    'Age': [28, 34, 22, 45],\n",
        "    'Score': [85, 72, 90, 66]\n",
        "}\n",
        "df = pd.DataFrame(data)\n",
        "\n",
        "# Set the threshold\n",
        "threshold = 30\n",
        "\n",
        "# Filter rows where 'Age' is greater than the threshold\n",
        "filtered_df = df[df['Age'] > threshold]\n",
        "\n",
        "print(filtered_df)\n"
      ],
      "metadata": {
        "colab": {
          "base_uri": "https://localhost:8080/"
        },
        "id": "NbEN_fW94LPc",
        "outputId": "9ce795af-23c2-48c2-c03a-66fcc7779475"
      },
      "execution_count": 18,
      "outputs": [
        {
          "output_type": "stream",
          "name": "stdout",
          "text": [
            "    Name  Age  Score\n",
            "1    Bob   34     72\n",
            "3  David   45     66\n"
          ]
        }
      ]
    },
    {
      "cell_type": "markdown",
      "source": [
        "10.Create a histogram using Seaborn to visualize a distribution."
      ],
      "metadata": {
        "id": "kMMZ-Nxp47Cs"
      }
    },
    {
      "cell_type": "code",
      "source": [
        "import seaborn as sns\n",
        "import matplotlib.pyplot as plt\n",
        "import warnings\n",
        "warnings.filterwarnings('ignore')\n",
        "\n",
        "df = sns.load_dataset(\"iris\")\n",
        "\n",
        "# Create a histogram for the 'sepal_length' column\n",
        "sns.histplot(data=df, x=\"sepal_length\")\n",
        "\n",
        "plt.title(\"Distribution of Sepal Length\")\n",
        "plt.xlabel(\"Sepal Length\")\n",
        "plt.ylabel(\"Count\")\n",
        "plt.show()\n"
      ],
      "metadata": {
        "colab": {
          "base_uri": "https://localhost:8080/",
          "height": 472
        },
        "id": "tqzwWDmV5AZF",
        "outputId": "c509fc4c-2f9b-467d-f01f-21c420aa9243"
      },
      "execution_count": 21,
      "outputs": [
        {
          "output_type": "display_data",
          "data": {
            "text/plain": [
              "<Figure size 640x480 with 1 Axes>"
            ],
            "image/png": "[encoded data removed]"
          },
          "metadata": {}
        }
      ]
    },
    {
      "cell_type": "markdown",
      "source": [
        "11. Perform matrix multiplication using NumPy."
      ],
      "metadata": {
        "id": "_7C9qmnn6gzf"
      }
    },
    {
      "cell_type": "code",
      "source": [
        "import numpy as np\n",
        "arr1=np.random.randint(1,3,(3,4))\n",
        "arr2=np.random.randint(2,5,(4,4))\n",
        "arr1@arr2"
      ],
      "metadata": {
        "colab": {
          "base_uri": "https://localhost:8080/"
        },
        "id": "dH6t3Imt6mQB",
        "outputId": "33f582eb-1930-4a01-eef9-028d5feaf269"
      },
      "execution_count": 22,
      "outputs": [
        {
          "output_type": "execute_result",
          "data": {
            "text/plain": [
              "array([[19, 24, 22, 24],\n",
              "       [15, 21, 20, 20],\n",
              "       [16, 19, 18, 20]])"
            ]
          },
          "metadata": {},
          "execution_count": 22
        }
      ]
    },
    {
      "cell_type": "markdown",
      "source": [
        "12.Use Pandas to load a CSV file and display its first 5 rows."
      ],
      "metadata": {
        "id": "4K96lNbU7J5k"
      }
    },
    {
      "cell_type": "code",
      "source": [
        "import pandas as pd\n",
        "\n",
        "# Loading  the CSV file present in my system into a DataFrame\n",
        "df = pd.read_csv('/content/sample_data/california_housing_test.csv')\n",
        "\n",
        "\n",
        "# Display the first 5 rows\n",
        "print(df.head())\n"
      ],
      "metadata": {
        "colab": {
          "base_uri": "https://localhost:8080/"
        },
        "id": "m1I-ctrW7Pvy",
        "outputId": "f82b2cf1-6c84-483c-9913-12a1d82ebe1f"
      },
      "execution_count": 28,
      "outputs": [
        {
          "output_type": "stream",
          "name": "stdout",
          "text": [
            "   longitude  latitude  housing_median_age  total_rooms  total_bedrooms  \\\n",
            "0    -122.05     37.37                27.0       3885.0           661.0   \n",
            "1    -118.30     34.26                43.0       1510.0           310.0   \n",
            "2    -117.81     33.78                27.0       3589.0           507.0   \n",
            "3    -118.36     33.82                28.0         67.0            15.0   \n",
            "4    -119.67     36.33                19.0       1241.0           244.0   \n",
            "\n",
            "   population  households  median_income  median_house_value  \n",
            "0      1537.0       606.0         6.6085            344700.0  \n",
            "1       809.0       277.0         3.5990            176500.0  \n",
            "2      1484.0       495.0         5.7934            270500.0  \n",
            "3        49.0        11.0         6.1359            330000.0  \n",
            "4       850.0       237.0         2.9375             81700.0  \n"
          ]
        }
      ]
    },
    {
      "cell_type": "markdown",
      "source": [
        "13.Create a 3D scatter plot using Plotly."
      ],
      "metadata": {
        "id": "cHdiRw1l-yzS"
      }
    },
    {
      "cell_type": "code",
      "source": [
        "import plotly.express as px\n",
        "\n",
        "\n",
        "df = px.data.iris()\n",
        "\n",
        "# Create a 3D scatter plot\n",
        "fig = px.scatter_3d(\n",
        "    df,\n",
        "    x='sepal_width',\n",
        "    y='sepal_length',\n",
        "    z='petal_length',\n",
        "    color='species',  # Different colors for each species\n",
        "    title='3D Scatter Plot of Iris Dataset'\n",
        ")\n",
        "\n",
        "\n",
        "fig.show()\n"
      ],
      "metadata": {
        "colab": {
          "base_uri": "https://localhost:8080/",
          "height": 542
        },
        "id": "MrWmCiiH-7vD",
        "outputId": "e777705f-7e9a-4a1b-a2d2-b7e701868b1f"
      },
      "execution_count": 30,
      "outputs": [
        {
          "output_type": "display_data",
          "data": {
            "text/html": [
              "<html>\n",
              "<head><meta charset=\"utf-8\" /></head>\n",
              "<body>\n",
              "    <div>            <script src=\"https://cdnjs.cloudflare.com/ajax/libs/mathjax/2.7.5/MathJax.js?config=TeX-AMS-MML_SVG\"></script><script type=\"text/javascript\">if (window.MathJax && window.MathJax.Hub && window.MathJax.Hub.Config) {window.MathJax.Hub.Config({SVG: {font: \"STIX-Web\"}});}</script>                <script type=\"text/javascript\">window.PlotlyConfig = {MathJaxConfig: 'local'};</script>\n",
              "        <script charset=\"utf-8\" src=\"https://cdn.plot.ly/plotly-2.35.2.min.js\"></script>                <div id=\"228441fa-b88c-42c3-8e71-10fb58599598\" class=\"plotly-graph-div\" style=\"height:525px; width:100%;\"></div>            <script type=\"text/javascript\">                                    window.PLOTLYENV=window.PLOTLYENV || {};                                    if (document.getElementById(\"228441fa-b88c-42c3-8e71-10fb58599598\")) {                    Plotly.newPlot(                        \"228441fa-b88c-42c3-8e71-10fb58599598\",                        [{\"hovertemplate\":\"species=setosa\\u003cbr\\u003esepal_width=%{x}\\u003cbr\\u003esepal_length=%{y}\\u003cbr\\u003epetal_length=%{z}\\u003cextra\\u003e\\u003c\\u002fextra\\u003e\",\"legendgroup\":\"setosa\",\"marker\":{\"color\":\"#636efa\",\"symbol\":\"circle\"},\"mode\":\"markers\",\"name\":\"setosa\",\"scene\":\"scene\",\"showlegend\":true,\"x\":[3.5,3.0,3.2,3.1,3.6,3.9,3.4,3.4,2.9,3.1,3.7,3.4,3.0,3.0,4.0,4.4,3.9,3.5,3.8,3.8,3.4,3.7,3.6,3.3,3.4,3.0,3.4,3.5,3.4,3.2,3.1,3.4,4.1,4.2,3.1,3.2,3.5,3.1,3.0,3.4,3.5,2.3,3.2,3.5,3.8,3.0,3.8,3.2,3.7,3.3],\"y\":[5.1,4.9,4.7,4.6,5.0,5.4,4.6,5.0,4.4,4.9,5.4,4.8,4.8,4.3,5.8,5.7,5.4,5.1,5.7,5.1,5.4,5.1,4.6,5.1,4.8,5.0,5.0,5.2,5.2,4.7,4.8,5.4,5.2,5.5,4.9,5.0,5.5,4.9,4.4,5.1,5.0,4.5,4.4,5.0,5.1,4.8,5.1,4.6,5.3,5.0],\"z\":[1.4,1.4,1.3,1.5,1.4,1.7,1.4,1.5,1.4,1.5,1.5,1.6,1.4,1.1,1.2,1.5,1.3,1.4,1.7,1.5,1.7,1.5,1.0,1.7,1.9,1.6,1.6,1.5,1.4,1.6,1.6,1.5,1.5,1.4,1.5,1.2,1.3,1.5,1.3,1.5,1.3,1.3,1.3,1.6,1.9,1.4,1.6,1.4,1.5,1.4],\"type\":\"scatter3d\"},{\"hovertemplate\":\"species=versicolor\\u003cbr\\u003esepal_width=%{x}\\u003cbr\\u003esepal_length=%{y}\\u003cbr\\u003epetal_length=%{z}\\u003cextra\\u003e\\u003c\\u002fextra\\u003e\",\"legendgroup\":\"versicolor\",\"marker\":{\"color\":\"#EF553B\",\"symbol\":\"circle\"},\"mode\":\"markers\",\"name\":\"versicolor\",\"scene\":\"scene\",\"showlegend\":true,\"x\":[3.2,3.2,3.1,2.3,2.8,2.8,3.3,2.4,2.9,2.7,2.0,3.0,2.2,2.9,2.9,3.1,3.0,2.7,2.2,2.5,3.2,2.8,2.5,2.8,2.9,3.0,2.8,3.0,2.9,2.6,2.4,2.4,2.7,2.7,3.0,3.4,3.1,2.3,3.0,2.5,2.6,3.0,2.6,2.3,2.7,3.0,2.9,2.9,2.5,2.8],\"y\":[7.0,6.4,6.9,5.5,6.5,5.7,6.3,4.9,6.6,5.2,5.0,5.9,6.0,6.1,5.6,6.7,5.6,5.8,6.2,5.6,5.9,6.1,6.3,6.1,6.4,6.6,6.8,6.7,6.0,5.7,5.5,5.5,5.8,6.0,5.4,6.0,6.7,6.3,5.6,5.5,5.5,6.1,5.8,5.0,5.6,5.7,5.7,6.2,5.1,5.7],\"z\":[4.7,4.5,4.9,4.0,4.6,4.5,4.7,3.3,4.6,3.9,3.5,4.2,4.0,4.7,3.6,4.4,4.5,4.1,4.5,3.9,4.8,4.0,4.9,4.7,4.3,4.4,4.8,5.0,4.5,3.5,3.8,3.7,3.9,5.1,4.5,4.5,4.7,4.4,4.1,4.0,4.4,4.6,4.0,3.3,4.2,4.2,4.2,4.3,3.0,4.1],\"type\":\"scatter3d\"},{\"hovertemplate\":\"species=virginica\\u003cbr\\u003esepal_width=%{x}\\u003cbr\\u003esepal_length=%{y}\\u003cbr\\u003epetal_length=%{z}\\u003cextra\\u003e\\u003c\\u002fextra\\u003e\",\"legendgroup\":\"virginica\",\"marker\":{\"color\":\"#00cc96\",\"symbol\":\"circle\"},\"mode\":\"markers\",\"name\":\"virginica\",\"scene\":\"scene\",\"showlegend\":true,\"x\":[3.3,2.7,3.0,2.9,3.0,3.0,2.5,2.9,2.5,3.6,3.2,2.7,3.0,2.5,2.8,3.2,3.0,3.8,2.6,2.2,3.2,2.8,2.8,2.7,3.3,3.2,2.8,3.0,2.8,3.0,2.8,3.8,2.8,2.8,2.6,3.0,3.4,3.1,3.0,3.1,3.1,3.1,2.7,3.2,3.3,3.0,2.5,3.0,3.4,3.0],\"y\":[6.3,5.8,7.1,6.3,6.5,7.6,4.9,7.3,6.7,7.2,6.5,6.4,6.8,5.7,5.8,6.4,6.5,7.7,7.7,6.0,6.9,5.6,7.7,6.3,6.7,7.2,6.2,6.1,6.4,7.2,7.4,7.9,6.4,6.3,6.1,7.7,6.3,6.4,6.0,6.9,6.7,6.9,5.8,6.8,6.7,6.7,6.3,6.5,6.2,5.9],\"z\":[6.0,5.1,5.9,5.6,5.8,6.6,4.5,6.3,5.8,6.1,5.1,5.3,5.5,5.0,5.1,5.3,5.5,6.7,6.9,5.0,5.7,4.9,6.7,4.9,5.7,6.0,4.8,4.9,5.6,5.8,6.1,6.4,5.6,5.1,5.6,6.1,5.6,5.5,4.8,5.4,5.6,5.1,5.1,5.9,5.7,5.2,5.0,5.2,5.4,5.1],\"type\":\"scatter3d\"}],                        {\"template\":{\"data\":{\"histogram2dcontour\":[{\"type\":\"histogram2dcontour\",\"colorbar\":{\"outlinewidth\":0,\"ticks\":\"\"},\"colorscale\":[[0.0,\"#0d0887\"],[0.1111111111111111,\"#46039f\"],[0.2222222222222222,\"#7201a8\"],[0.3333333333333333,\"#9c179e\"],[0.4444444444444444,\"#bd3786\"],[0.5555555555555556,\"#d8576b\"],[0.6666666666666666,\"#ed7953\"],[0.7777777777777778,\"#fb9f3a\"],[0.8888888888888888,\"#fdca26\"],[1.0,\"#f0f921\"]]}],\"choropleth\":[{\"type\":\"choropleth\",\"colorbar\":{\"outlinewidth\":0,\"ticks\":\"\"}}],\"histogram2d\":[{\"type\":\"histogram2d\",\"colorbar\":{\"outlinewidth\":0,\"ticks\":\"\"},\"colorscale\":[[0.0,\"#0d0887\"],[0.1111111111111111,\"#46039f\"],[0.2222222222222222,\"#7201a8\"],[0.3333333333333333,\"#9c179e\"],[0.4444444444444444,\"#bd3786\"],[0.5555555555555556,\"#d8576b\"],[0.6666666666666666,\"#ed7953\"],[0.7777777777777778,\"#fb9f3a\"],[0.8888888888888888,\"#fdca26\"],[1.0,\"#f0f921\"]]}],\"heatmap\":[{\"type\":\"heatmap\",\"colorbar\":{\"outlinewidth\":0,\"ticks\":\"\"},\"colorscale\":[[0.0,\"#0d0887\"],[0.1111111111111111,\"#46039f\"],[0.2222222222222222,\"#7201a8\"],[0.3333333333333333,\"#9c179e\"],[0.4444444444444444,\"#bd3786\"],[0.5555555555555556,\"#d8576b\"],[0.6666666666666666,\"#ed7953\"],[0.7777777777777778,\"#fb9f3a\"],[0.8888888888888888,\"#fdca26\"],[1.0,\"#f0f921\"]]}],\"heatmapgl\":[{\"type\":\"heatmapgl\",\"colorbar\":{\"outlinewidth\":0,\"ticks\":\"\"},\"colorscale\":[[0.0,\"#0d0887\"],[0.1111111111111111,\"#46039f\"],[0.2222222222222222,\"#7201a8\"],[0.3333333333333333,\"#9c179e\"],[0.4444444444444444,\"#bd3786\"],[0.5555555555555556,\"#d8576b\"],[0.6666666666666666,\"#ed7953\"],[0.7777777777777778,\"#fb9f3a\"],[0.8888888888888888,\"#fdca26\"],[1.0,\"#f0f921\"]]}],\"contourcarpet\":[{\"type\":\"contourcarpet\",\"colorbar\":{\"outlinewidth\":0,\"ticks\":\"\"}}],\"contour\":[{\"type\":\"contour\",\"colorbar\":{\"outlinewidth\":0,\"ticks\":\"\"},\"colorscale\":[[0.0,\"#0d0887\"],[0.1111111111111111,\"#46039f\"],[0.2222222222222222,\"#7201a8\"],[0.3333333333333333,\"#9c179e\"],[0.4444444444444444,\"#bd3786\"],[0.5555555555555556,\"#d8576b\"],[0.6666666666666666,\"#ed7953\"],[0.7777777777777778,\"#fb9f3a\"],[0.8888888888888888,\"#fdca26\"],[1.0,\"#f0f921\"]]}],\"surface\":[{\"type\":\"surface\",\"colorbar\":{\"outlinewidth\":0,\"ticks\":\"\"},\"colorscale\":[[0.0,\"#0d0887\"],[0.1111111111111111,\"#46039f\"],[0.2222222222222222,\"#7201a8\"],[0.3333333333333333,\"#9c179e\"],[0.4444444444444444,\"#bd3786\"],[0.5555555555555556,\"#d8576b\"],[0.6666666666666666,\"#ed7953\"],[0.7777777777777778,\"#fb9f3a\"],[0.8888888888888888,\"#fdca26\"],[1.0,\"#f0f921\"]]}],\"mesh3d\":[{\"type\":\"mesh3d\",\"colorbar\":{\"outlinewidth\":0,\"ticks\":\"\"}}],\"scatter\":[{\"fillpattern\":{\"fillmode\":\"overlay\",\"size\":10,\"solidity\":0.2},\"type\":\"scatter\"}],\"parcoords\":[{\"type\":\"parcoords\",\"line\":{\"colorbar\":{\"outlinewidth\":0,\"ticks\":\"\"}}}],\"scatterpolargl\":[{\"type\":\"scatterpolargl\",\"marker\":{\"colorbar\":{\"outlinewidth\":0,\"ticks\":\"\"}}}],\"bar\":[{\"error_x\":{\"color\":\"#2a3f5f\"},\"error_y\":{\"color\":\"#2a3f5f\"},\"marker\":{\"line\":{\"color\":\"#E5ECF6\",\"width\":0.5},\"pattern\":{\"fillmode\":\"overlay\",\"size\":10,\"solidity\":0.2}},\"type\":\"bar\"}],\"scattergeo\":[{\"type\":\"scattergeo\",\"marker\":{\"colorbar\":{\"outlinewidth\":0,\"ticks\":\"\"}}}],\"scatterpolar\":[{\"type\":\"scatterpolar\",\"marker\":{\"colorbar\":{\"outlinewidth\":0,\"ticks\":\"\"}}}],\"histogram\":[{\"marker\":{\"pattern\":{\"fillmode\":\"overlay\",\"size\":10,\"solidity\":0.2}},\"type\":\"histogram\"}],\"scattergl\":[{\"type\":\"scattergl\",\"marker\":{\"colorbar\":{\"outlinewidth\":0,\"ticks\":\"\"}}}],\"scatter3d\":[{\"type\":\"scatter3d\",\"line\":{\"colorbar\":{\"outlinewidth\":0,\"ticks\":\"\"}},\"marker\":{\"colorbar\":{\"outlinewidth\":0,\"ticks\":\"\"}}}],\"scattermapbox\":[{\"type\":\"scattermapbox\",\"marker\":{\"colorbar\":{\"outlinewidth\":0,\"ticks\":\"\"}}}],\"scatterternary\":[{\"type\":\"scatterternary\",\"marker\":{\"colorbar\":{\"outlinewidth\":0,\"ticks\":\"\"}}}],\"scattercarpet\":[{\"type\":\"scattercarpet\",\"marker\":{\"colorbar\":{\"outlinewidth\":0,\"ticks\":\"\"}}}],\"carpet\":[{\"aaxis\":{\"endlinecolor\":\"#2a3f5f\",\"gridcolor\":\"white\",\"linecolor\":\"white\",\"minorgridcolor\":\"white\",\"startlinecolor\":\"#2a3f5f\"},\"baxis\":{\"endlinecolor\":\"#2a3f5f\",\"gridcolor\":\"white\",\"linecolor\":\"white\",\"minorgridcolor\":\"white\",\"startlinecolor\":\"#2a3f5f\"},\"type\":\"carpet\"}],\"table\":[{\"cells\":{\"fill\":{\"color\":\"#EBF0F8\"},\"line\":{\"color\":\"white\"}},\"header\":{\"fill\":{\"color\":\"#C8D4E3\"},\"line\":{\"color\":\"white\"}},\"type\":\"table\"}],\"barpolar\":[{\"marker\":{\"line\":{\"color\":\"#E5ECF6\",\"width\":0.5},\"pattern\":{\"fillmode\":\"overlay\",\"size\":10,\"solidity\":0.2}},\"type\":\"barpolar\"}],\"pie\":[{\"automargin\":true,\"type\":\"pie\"}]},\"layout\":{\"autotypenumbers\":\"strict\",\"colorway\":[\"#636efa\",\"#EF553B\",\"#00cc96\",\"#ab63fa\",\"#FFA15A\",\"#19d3f3\",\"#FF6692\",\"#B6E880\",\"#FF97FF\",\"#FECB52\"],\"font\":{\"color\":\"#2a3f5f\"},\"hovermode\":\"closest\",\"hoverlabel\":{\"align\":\"left\"},\"paper_bgcolor\":\"white\",\"plot_bgcolor\":\"#E5ECF6\",\"polar\":{\"bgcolor\":\"#E5ECF6\",\"angularaxis\":{\"gridcolor\":\"white\",\"linecolor\":\"white\",\"ticks\":\"\"},\"radialaxis\":{\"gridcolor\":\"white\",\"linecolor\":\"white\",\"ticks\":\"\"}},\"ternary\":{\"bgcolor\":\"#E5ECF6\",\"aaxis\":{\"gridcolor\":\"white\",\"linecolor\":\"white\",\"ticks\":\"\"},\"baxis\":{\"gridcolor\":\"white\",\"linecolor\":\"white\",\"ticks\":\"\"},\"caxis\":{\"gridcolor\":\"white\",\"linecolor\":\"white\",\"ticks\":\"\"}},\"coloraxis\":{\"colorbar\":{\"outlinewidth\":0,\"ticks\":\"\"}},\"colorscale\":{\"sequential\":[[0.0,\"#0d0887\"],[0.1111111111111111,\"#46039f\"],[0.2222222222222222,\"#7201a8\"],[0.3333333333333333,\"#9c179e\"],[0.4444444444444444,\"#bd3786\"],[0.5555555555555556,\"#d8576b\"],[0.6666666666666666,\"#ed7953\"],[0.7777777777777778,\"#fb9f3a\"],[0.8888888888888888,\"#fdca26\"],[1.0,\"#f0f921\"]],\"sequentialminus\":[[0.0,\"#0d0887\"],[0.1111111111111111,\"#46039f\"],[0.2222222222222222,\"#7201a8\"],[0.3333333333333333,\"#9c179e\"],[0.4444444444444444,\"#bd3786\"],[0.5555555555555556,\"#d8576b\"],[0.6666666666666666,\"#ed7953\"],[0.7777777777777778,\"#fb9f3a\"],[0.8888888888888888,\"#fdca26\"],[1.0,\"#f0f921\"]],\"diverging\":[[0,\"#8e0152\"],[0.1,\"#c51b7d\"],[0.2,\"#de77ae\"],[0.3,\"#f1b6da\"],[0.4,\"#fde0ef\"],[0.5,\"#f7f7f7\"],[0.6,\"#e6f5d0\"],[0.7,\"#b8e186\"],[0.8,\"#7fbc41\"],[0.9,\"#4d9221\"],[1,\"#276419\"]]},\"xaxis\":{\"gridcolor\":\"white\",\"linecolor\":\"white\",\"ticks\":\"\",\"title\":{\"standoff\":15},\"zerolinecolor\":\"white\",\"automargin\":true,\"zerolinewidth\":2},\"yaxis\":{\"gridcolor\":\"white\",\"linecolor\":\"white\",\"ticks\":\"\",\"title\":{\"standoff\":15},\"zerolinecolor\":\"white\",\"automargin\":true,\"zerolinewidth\":2},\"scene\":{\"xaxis\":{\"backgroundcolor\":\"#E5ECF6\",\"gridcolor\":\"white\",\"linecolor\":\"white\",\"showbackground\":true,\"ticks\":\"\",\"zerolinecolor\":\"white\",\"gridwidth\":2},\"yaxis\":{\"backgroundcolor\":\"#E5ECF6\",\"gridcolor\":\"white\",\"linecolor\":\"white\",\"showbackground\":true,\"ticks\":\"\",\"zerolinecolor\":\"white\",\"gridwidth\":2},\"zaxis\":{\"backgroundcolor\":\"#E5ECF6\",\"gridcolor\":\"white\",\"linecolor\":\"white\",\"showbackground\":true,\"ticks\":\"\",\"zerolinecolor\":\"white\",\"gridwidth\":2}},\"shapedefaults\":{\"line\":{\"color\":\"#2a3f5f\"}},\"annotationdefaults\":{\"arrowcolor\":\"#2a3f5f\",\"arrowhead\":0,\"arrowwidth\":1},\"geo\":{\"bgcolor\":\"white\",\"landcolor\":\"#E5ECF6\",\"subunitcolor\":\"white\",\"showland\":true,\"showlakes\":true,\"lakecolor\":\"white\"},\"title\":{\"x\":0.05},\"mapbox\":{\"style\":\"light\"}}},\"scene\":{\"domain\":{\"x\":[0.0,1.0],\"y\":[0.0,1.0]},\"xaxis\":{\"title\":{\"text\":\"sepal_width\"}},\"yaxis\":{\"title\":{\"text\":\"sepal_length\"}},\"zaxis\":{\"title\":{\"text\":\"petal_length\"}}},\"legend\":{\"title\":{\"text\":\"species\"},\"tracegroupgap\":0},\"title\":{\"text\":\"3D Scatter Plot of Iris Dataset\"}},                        {\"responsive\": true}                    ).then(function(){\n",
              "                            \n",
              "var gd = document.getElementById('228441fa-b88c-42c3-8e71-10fb58599598');\n",
              "var x = new MutationObserver(function (mutations, observer) {{\n",
              "        var display = window.getComputedStyle(gd).display;\n",
              "        if (!display || display === 'none') {{\n",
              "            console.log([gd, 'removed!']);\n",
              "            Plotly.purge(gd);\n",
              "            observer.disconnect();\n",
              "        }}\n",
              "}});\n",
              "\n",
              "// Listen for the removal of the full notebook cells\n",
              "var notebookContainer = gd.closest('#notebook-container');\n",
              "if (notebookContainer) {{\n",
              "    x.observe(notebookContainer, {childList: true});\n",
              "}}\n",
              "\n",
              "// Listen for the clearing of the current output cell\n",
              "var outputEl = gd.closest('.output');\n",
              "if (outputEl) {{\n",
              "    x.observe(outputEl, {childList: true});\n",
              "}}\n",
              "\n",
              "                        })                };                            </script>        </div>\n",
              "</body>\n",
              "</html>"
            ]
          },
          "metadata": {}
        }
      ]
    }
  ]
}